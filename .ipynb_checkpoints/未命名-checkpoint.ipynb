{
 "cells": [
  {
   "cell_type": "code",
   "execution_count": 7,
   "id": "07b4d72c-08bf-492c-8a9c-7fb03c4ba6c6",
   "metadata": {},
   "outputs": [
    {
     "name": "stdout",
     "output_type": "stream",
     "text": [
      "Overwriting statistics.py\n"
     ]
    }
   ],
   "source": [
    "%%file statistics.py \n",
    "from typing import Sequence, Tuple, Union\n",
    "\n",
    "def iqr(values: Sequence[float]) -> float:\n",
    "\n",
    "    if len(values) <= 1: return 0.\n",
    "\n",
    "    values = sorted(values)\n",
    "\n",
    "    p25,p75 = percentile(values, [0.25,0.75])\n",
    "\n",
    "    return p75-p25\n",
    "\n",
    "def percentile(values: Sequence[float], percentiles: Union[float,Sequence[float]]) -> Union[float, Tuple[float,...]]:\n",
    "\n",
    "    def _percentile(values: Sequence[float], percentile: float) -> float:\n",
    "        assert 0 <= percentile and percentile <= 1, \"Percentile must be between 0 and 1 inclusive.\"\n",
    "\n",
    "        i = percentile*(len(values)-1)\n",
    "\n",
    "        if i == int(i):\n",
    "            return values[int(i)]\n",
    "        else:\n",
    "            return values[int(i)] * (1-(i-int(i))) + values[int(i)+1] * (i-int(i))\n",
    "\n",
    "    values = sorted(values)\n",
    "\n",
    "    if isinstance(percentiles,(float,int)):\n",
    "        return _percentile(values, percentiles)\n",
    "    else:\n",
    "        return tuple([_percentile(values, p) for p in percentiles ])\n",
    "\n",
    "class OnlineVariance():\n",
    "    \"\"\"Calculate sample variance in an online fashion.\n",
    "    Remarks:\n",
    "        This algorithm is known as Welford's algorithm and the implementation below\n",
    "        is a modified version of the Python algorithm by Wikepedia contirubtors (2020).\n",
    "    References:\n",
    "        Wikipedia contributors. (2020, July 6). Algorithms for calculating variance. In Wikipedia, The\n",
    "        Free Encyclopedia. Retrieved 18:00, July 24, 2020, from\n",
    "        https://en.wikipedia.org/w/index.php?title=Algorithms_for_calculating_variance&oldid=966329915\n",
    "    \"\"\"\n",
    "\n",
    "    def __init__(self) -> None:\n",
    "        \"\"\"Instatiate an OnlineVariance calcualator.\"\"\"\n",
    "        self._count    = 0.\n",
    "        self._mean     = 0.\n",
    "        self._M2       = 0.\n",
    "        self._variance = float(\"nan\")\n",
    "\n",
    "    @property\n",
    "    def variance(self) -> float:\n",
    "        \"\"\"The variance of all given updates.\"\"\"\n",
    "        return self._variance\n",
    "\n",
    "    def update(self, value: float) -> None:\n",
    "        \"\"\"Update the current variance with the given value.\"\"\"\n",
    "\n",
    "        (count,mean,M2) = (self._count, self._mean, self._M2)\n",
    "\n",
    "        count   += 1\n",
    "        delta   = value - mean\n",
    "        mean   += delta / count\n",
    "        delta2  = value - mean\n",
    "        M2     += delta * delta2\n",
    "\n",
    "        (self._count, self._mean, self._M2) = (count, mean, M2)\n",
    "\n",
    "        if count > 1:\n",
    "            self._variance = M2 / (count - 1)\n",
    "\n",
    "class OnlineMean():\n",
    "    \"\"\"Calculate mean in an online fashion.\"\"\"\n",
    "\n",
    "    def __init__(self):\n",
    "        self._n = 0\n",
    "        self._mean = float('nan')\n",
    "\n",
    "    @property\n",
    "    def mean(self) -> float:\n",
    "        \"\"\"The mean of all given updates.\"\"\"\n",
    "\n",
    "        return self._mean\n",
    "\n",
    "    def update(self, value:float) -> None:\n",
    "        \"\"\"Update the current mean with the given value.\"\"\"\n",
    "\n",
    "        self._n += 1\n",
    "\n",
    "        alpha = 1/self._n\n",
    "\n",
    "        self._mean = value if alpha == 1 else (1 - alpha) * self._mean + alpha * value\n",
    "\n",
    "\"\"\"test_sets = [ [0, 2], [1, 1], [1,2], [-1,1], [10.5,20] ]\n",
    "for test_set in test_sets:\n",
    "    online = OnlineMean()\n",
    "    for number in test_set:\n",
    "        online.update(number)\"\"\""
   ]
  },
  {
   "cell_type": "code",
   "execution_count": 8,
   "id": "5ec5372b-28a9-4c10-b5d5-7444da3dc4fd",
   "metadata": {},
   "outputs": [
    {
     "name": "stdout",
     "output_type": "stream",
     "text": [
      "Writing utils.py\n"
     ]
    }
   ],
   "source": [
    "%%file utils.py\n",
    "from collections import defaultdict\n",
    "\n",
    "class HashableDict(dict):\n",
    "    def __init__(self, *args, **kwargs) -> None:\n",
    "        super().__init__(*args, **kwargs)\n",
    "        self._hash = hash(tuple(self.items()))\n",
    "\n",
    "    def __hash__(self) -> int:\n",
    "        assert self._hash == hash(tuple(self.items()))\n",
    "        return self._hash\n",
    "\n",
    "class KeyDefaultDict(defaultdict):\n",
    "    def __missing__(self, key):\n",
    "        if self.default_factory is None:\n",
    "            raise KeyError( key )\n",
    "        else:\n",
    "            value = self.default_factory(key)\n",
    "            self[key] = value\n",
    "            return value"
   ]
  },
  {
   "cell_type": "code",
   "execution_count": 5,
   "id": "f035ebab-3688-4fc3-8802-3d662b288eae",
   "metadata": {},
   "outputs": [
    {
     "data": {
      "text/plain": [
       "15.25"
      ]
     },
     "execution_count": 5,
     "metadata": {},
     "output_type": "execute_result"
    }
   ],
   "source": [
    "online.mean"
   ]
  },
  {
   "cell_type": "code",
   "execution_count": 9,
   "id": "33712a9c-5c4e-4350-aaaa-ae1284ab67ad",
   "metadata": {},
   "outputs": [],
   "source": [
    "import importlib.util\n",
    "\n",
    "from coba.exceptions import CobaException\n",
    "from coba.learners import LinUCBLearner"
   ]
  },
  {
   "cell_type": "code",
   "execution_count": 12,
   "id": "f4efe71e-ddb9-4702-bc6b-a20846c0a2af",
   "metadata": {},
   "outputs": [
    {
     "name": "stdout",
     "output_type": "stream",
     "text": [
      "CPU times: user 445 µs, sys: 39 µs, total: 484 µs\n",
      "Wall time: 470 µs\n"
     ]
    },
    {
     "data": {
      "text/plain": [
       "[0.5, 0.5]"
      ]
     },
     "execution_count": 12,
     "metadata": {},
     "output_type": "execute_result"
    }
   ],
   "source": [
    "%%time\n",
    "learner = LinUCBLearner()\n",
    "probs   = learner.predict(None, [1,1]) #[1,2,3]\n",
    "probs"
   ]
  },
  {
   "cell_type": "code",
   "execution_count": 5,
   "id": "4f7e1437-1505-40ed-bd79-41ebf5dc5eea",
   "metadata": {},
   "outputs": [
    {
     "data": {
      "text/plain": [
       "[0.3333333333333333, 0.3333333333333333, 0.3333333333333333]"
      ]
     },
     "execution_count": 5,
     "metadata": {},
     "output_type": "execute_result"
    }
   ],
   "source": [
    "probs"
   ]
  },
  {
   "cell_type": "code",
   "execution_count": 18,
   "id": "aff3a9ae-df0f-44dc-ae25-927ddfa1bcd0",
   "metadata": {},
   "outputs": [],
   "source": [
    "learner.learn(None, 1, 1, 1.5, None)"
   ]
  },
  {
   "cell_type": "code",
   "execution_count": 21,
   "id": "372db7ca-4100-4ad1-b1d8-109ba9c61193",
   "metadata": {},
   "outputs": [
    {
     "data": {
      "text/plain": [
       "[0.0, 1.0]"
      ]
     },
     "execution_count": 21,
     "metadata": {},
     "output_type": "execute_result"
    }
   ],
   "source": [
    "probs   = learner.predict(None, [1,2]) #[1,2,3]\n",
    "probs"
   ]
  },
  {
   "cell_type": "code",
   "execution_count": 19,
   "id": "6e972894-f096-4b8f-a240-e093b6196394",
   "metadata": {},
   "outputs": [
    {
     "data": {
      "text/plain": [
       "array([[ 0.57142857, -0.42857143],\n",
       "       [-0.42857143,  0.57142857]])"
      ]
     },
     "execution_count": 19,
     "metadata": {},
     "output_type": "execute_result"
    }
   ],
   "source": [
    "learner._A_inv"
   ]
  },
  {
   "cell_type": "code",
   "execution_count": 22,
   "id": "6fe9c3e6-0d5c-4638-8cd3-f7931a285a5b",
   "metadata": {},
   "outputs": [
    {
     "data": {
      "text/plain": [
       "{'family': 'LinUCB', 'alpha': 1, 'features': [1, 'a', 'ax']}"
      ]
     },
     "execution_count": 22,
     "metadata": {},
     "output_type": "execute_result"
    }
   ],
   "source": [
    "learner.params"
   ]
  },
  {
   "cell_type": "code",
   "execution_count": 25,
   "id": "55ca179d-236d-4975-8bfa-7d974e55ac18",
   "metadata": {},
   "outputs": [
    {
     "data": {
      "text/plain": [
       "array([[1, 1, 1, 1],\n",
       "       [2, 2, 2, 2],\n",
       "       [3, 3, 3, 3]])"
      ]
     },
     "execution_count": 25,
     "metadata": {},
     "output_type": "execute_result"
    }
   ],
   "source": [
    "import numpy as np\n",
    "actions = [\"E04\",\"A01\",\"S01\",\"S02\"]\n",
    "context = [1,2,3]\n",
    "features = np.array([context for action in actions]).T\n",
    "features"
   ]
  },
  {
   "cell_type": "code",
   "execution_count": 26,
   "id": "86197368-ffec-4bc6-ac0e-baf5ec163785",
   "metadata": {},
   "outputs": [
    {
     "data": {
      "text/plain": [
       "array([0., 0., 0.])"
      ]
     },
     "execution_count": 26,
     "metadata": {},
     "output_type": "execute_result"
    }
   ],
   "source": [
    "np.zeros(features.shape[0])"
   ]
  },
  {
   "cell_type": "code",
   "execution_count": 36,
   "id": "da632f4a-f4ef-4768-a7b4-28d1465530e0",
   "metadata": {},
   "outputs": [
    {
     "data": {
      "text/plain": [
       "array([1., 1., 1., 1., 1.])"
      ]
     },
     "execution_count": 36,
     "metadata": {},
     "output_type": "execute_result"
    }
   ],
   "source": [
    "v = np.zeros(5)\n",
    "w=np.identity(5)\n",
    "((2-1.0)/(1+v)) @ w"
   ]
  },
  {
   "cell_type": "code",
   "execution_count": 28,
   "id": "c4ce0910-451d-4014-b097-0de6e06809f1",
   "metadata": {},
   "outputs": [
    {
     "data": {
      "text/plain": [
       "array([0., 0., 0., 0., 0.])"
      ]
     },
     "execution_count": 28,
     "metadata": {},
     "output_type": "execute_result"
    }
   ],
   "source": [
    "v"
   ]
  },
  {
   "cell_type": "code",
   "execution_count": 35,
   "id": "6dba51e6-654a-40af-b9c2-61fd43a3b8eb",
   "metadata": {},
   "outputs": [
    {
     "data": {
      "text/plain": [
       "(5,)"
      ]
     },
     "execution_count": 35,
     "metadata": {},
     "output_type": "execute_result"
    }
   ],
   "source": [
    "((2-1.0)/(1+v)).T.shape"
   ]
  },
  {
   "cell_type": "code",
   "execution_count": 42,
   "id": "1d880383-0ec2-46b3-96d7-a01009687fdc",
   "metadata": {},
   "outputs": [
    {
     "data": {
      "text/plain": [
       "array([[0.00346021, 0.00346021, 0.00346021, 0.00346021, 0.00346021],\n",
       "       [0.00346021, 0.00346021, 0.00346021, 0.00346021, 0.00346021],\n",
       "       [0.00346021, 0.00346021, 0.00346021, 0.00346021, 0.00346021],\n",
       "       [0.01384083, 0.01384083, 0.01384083, 0.01384083, 0.01384083],\n",
       "       [0.03114187, 0.03114187, 0.03114187, 0.03114187, 0.03114187]])"
      ]
     },
     "execution_count": 42,
     "metadata": {},
     "output_type": "execute_result"
    }
   ],
   "source": [
    "x1 = np.array([[0.05882353, 0.05882353, 0.05882353, 0.05882353, 0.05882353],\n",
    "               [0.05882353, 0.05882353, 0.05882353, 0.05882353, 0.05882353],\n",
    "       [0.05882353, 0.05882353, 0.05882353, 0.05882353, 0.05882353],\n",
    "       [0.11764706, 0.11764706, 0.11764706, 0.11764706, 0.11764706],\n",
    "       [0.17647059, 0.17647059, 0.17647059, 0.17647059, 0.17647059]])\n",
    "                                                                           \n",
    "\n",
    "x1*x1"
   ]
  },
  {
   "cell_type": "code",
   "execution_count": 43,
   "id": "06a5095d-a9ad-4f21-9deb-f6442c40052e",
   "metadata": {},
   "outputs": [
    {
     "data": {
      "text/plain": [
       "array([[0.02768166, 0.02768166, 0.02768166, 0.02768166, 0.02768166],\n",
       "       [0.02768166, 0.02768166, 0.02768166, 0.02768166, 0.02768166],\n",
       "       [0.02768166, 0.02768166, 0.02768166, 0.02768166, 0.02768166],\n",
       "       [0.05536332, 0.05536332, 0.05536332, 0.05536332, 0.05536332],\n",
       "       [0.08304498, 0.08304498, 0.08304498, 0.08304498, 0.08304498]])"
      ]
     },
     "execution_count": 43,
     "metadata": {},
     "output_type": "execute_result"
    }
   ],
   "source": [
    "x1@x1"
   ]
  },
  {
   "cell_type": "code",
   "execution_count": 49,
   "id": "db6431d3-2367-42ea-a60c-d623e103fdfa",
   "metadata": {},
   "outputs": [
    {
     "ename": "IndexError",
     "evalue": "list index out of range",
     "output_type": "error",
     "traceback": [
      "\u001b[0;31m---------------------------------------------------------------------------\u001b[0m",
      "\u001b[0;31mIndexError\u001b[0m                                Traceback (most recent call last)",
      "Input \u001b[0;32mIn [49]\u001b[0m, in \u001b[0;36m<module>\u001b[0;34m\u001b[0m\n\u001b[1;32m      1\u001b[0m ll\u001b[38;5;241m=\u001b[39mnp\u001b[38;5;241m.\u001b[39marray([[\u001b[38;5;241m0.05882353\u001b[39m]])\n\u001b[0;32m----> 2\u001b[0m ol \u001b[38;5;241m=\u001b[39m np\u001b[38;5;241m.\u001b[39marray([\u001b[43m[\u001b[49m\u001b[38;5;241;43m1\u001b[39;49m\u001b[43m]\u001b[49m\n\u001b[1;32m      3\u001b[0m \u001b[43m               \u001b[49m\u001b[43m[\u001b[49m\u001b[38;5;241;43m1\u001b[39;49m\u001b[43m]\u001b[49m\n\u001b[1;32m      4\u001b[0m                [\u001b[38;5;241m1\u001b[39m]\n\u001b[1;32m      5\u001b[0m                [\u001b[38;5;241m2\u001b[39m]\n\u001b[1;32m      6\u001b[0m                [\u001b[38;5;241m3\u001b[39m]])\n\u001b[1;32m      8\u001b[0m ll\u001b[38;5;241m*\u001b[39mol\n",
      "\u001b[0;31mIndexError\u001b[0m: list index out of range"
     ]
    }
   ],
   "source": [
    "ll=np.array([[0.05882353]])\n",
    "ol = np.array([[1]\n",
    "               [1]\n",
    "               [1]\n",
    "               [2]\n",
    "               [3]])\n",
    "\n",
    "ll*ol"
   ]
  },
  {
   "cell_type": "code",
   "execution_count": null,
   "id": "25e28ead-ac7e-412d-a767-5e82bd255085",
   "metadata": {},
   "outputs": [],
   "source": []
  }
 ],
 "metadata": {
  "kernelspec": {
   "display_name": "Python 3 (ipykernel)",
   "language": "python",
   "name": "python3"
  },
  "language_info": {
   "codemirror_mode": {
    "name": "ipython",
    "version": 3
   },
   "file_extension": ".py",
   "mimetype": "text/x-python",
   "name": "python",
   "nbconvert_exporter": "python",
   "pygments_lexer": "ipython3",
   "version": "3.8.11"
  }
 },
 "nbformat": 4,
 "nbformat_minor": 5
}
