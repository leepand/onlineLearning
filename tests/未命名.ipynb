{
 "cells": [
  {
   "cell_type": "code",
   "execution_count": 1,
   "id": "2c481a80-e44c-4efc-a2c3-1608b45870ae",
   "metadata": {},
   "outputs": [],
   "source": [
    "from onlineLearning.learners import Learner,SafeLearner,EpsilonBanditLearner"
   ]
  },
  {
   "cell_type": "code",
   "execution_count": 2,
   "id": "69d2e48a-25b7-462a-96a6-cf1d5f11c102",
   "metadata": {},
   "outputs": [],
   "source": [
    "le = EpsilonBanditLearner()"
   ]
  },
  {
   "cell_type": "code",
   "execution_count": 3,
   "id": "0ee7d8fe-e0c3-417b-b5c8-46c89840e512",
   "metadata": {},
   "outputs": [
    {
     "data": {
      "text/plain": [
       "{'family': 'epsilon_bandit', 'epsilon': 0.05}"
      ]
     },
     "execution_count": 3,
     "metadata": {},
     "output_type": "execute_result"
    }
   ],
   "source": [
    "le.params"
   ]
  },
  {
   "cell_type": "code",
   "execution_count": 12,
   "id": "864ba819-2e11-437b-acd1-834c8338d954",
   "metadata": {},
   "outputs": [
    {
     "data": {
      "text/plain": [
       "[0.4875, 0.0125, 0.0125, 0.4875]"
      ]
     },
     "execution_count": 12,
     "metadata": {},
     "output_type": "execute_result"
    }
   ],
   "source": [
    "le.predict([1,2,3],[1,2,3,4])"
   ]
  },
  {
   "cell_type": "code",
   "execution_count": 9,
   "id": "204b8710-2598-4c77-a333-1d5f181b264f",
   "metadata": {},
   "outputs": [],
   "source": [
    "le.learn([1,2,3],1,1.5,None,None)"
   ]
  },
  {
   "cell_type": "code",
   "execution_count": 11,
   "id": "0b725316-656a-4f1b-9efe-baea4a00afd7",
   "metadata": {},
   "outputs": [],
   "source": [
    "le.learn([1,2,3],4,1.5,None,None)"
   ]
  },
  {
   "cell_type": "code",
   "execution_count": 21,
   "id": "640b359c-c163-4ae0-9dfc-58f9928c70fb",
   "metadata": {},
   "outputs": [
    {
     "data": {
      "text/plain": [
       "[1, 3, 2, 1, 2, 4]"
      ]
     },
     "execution_count": 21,
     "metadata": {},
     "output_type": "execute_result"
    }
   ],
   "source": [
    "from abc import ABC, abstractmethod\n",
    "from typing import Any, TypeVar, Generic, Dict\n",
    "from typing import Iterable, Any, Sequence, Dict, Callable, Optional, Union, MutableSequence, MutableMapping\n",
    "\n",
    "_T_out = TypeVar(\"_T_out\", bound=Any, covariant    =True)\n",
    "_T_in  = TypeVar(\"_T_in\" , bound=Any, contravariant=True)\n",
    "\n",
    "class Pipe:\n",
    "\n",
    "    @property\n",
    "    def params(self) -> Dict[str,Any]:\n",
    "        \"\"\"Parameters describing the pipe.\"\"\"\n",
    "        return { }\n",
    "\n",
    "    def __str__(self) -> str:\n",
    "        return str(self.params)\n",
    "\n",
    "class Filter(ABC, Pipe, Generic[_T_in, _T_out]):\n",
    "    \"\"\"A pipe that can modify an item.\"\"\"\n",
    "\n",
    "    @abstractmethod\n",
    "    def filter(self, item: _T_in) -> _T_out:\n",
    "        \"\"\"Filter the item.\"\"\"\n",
    "        ...\n",
    "\n",
    "class Flatten(Filter[Iterable[Any], Iterable[Any]]):\n",
    "    \"\"\"A filter which flattens rows in table shaped data.\"\"\"\n",
    "\n",
    "    def filter(self, data: Iterable[Any]) -> Iterable[Any]:\n",
    "\n",
    "        for row in data:\n",
    "\n",
    "            if isinstance(row,dict):\n",
    "                row = dict(row)\n",
    "                for k in list(row.keys()):\n",
    "                    if isinstance(row[k],(list,tuple)):\n",
    "                        row.update([(f\"{k}_{i}\", v) for i,v in enumerate(row.pop(k))])\n",
    "\n",
    "            elif isinstance(row,list):\n",
    "                row = list(row)\n",
    "                for k in reversed(range(len(row))):\n",
    "                    if isinstance(row[k],(list,tuple)):\n",
    "                        for v in reversed(row.pop(k)):\n",
    "                            row.insert(k,v)\n",
    "\n",
    "            elif isinstance(row,tuple):\n",
    "                row = list(row)\n",
    "                for k in reversed(range(len(row))):\n",
    "                    if isinstance(row[k],(list,tuple)):\n",
    "                        for v in reversed(row.pop(k)):\n",
    "                            row.insert(k,v)\n",
    "                row = tuple(row)\n",
    "\n",
    "            yield row\n",
    "\n",
    "\n",
    "context = [[1,3,2],[1,2,4]]\n",
    "list(Flatten().filter([list(context)]))[0] if context else []"
   ]
  },
  {
   "cell_type": "code",
   "execution_count": 22,
   "id": "7451634b-b2aa-4a04-b948-d69bc4d5ff2b",
   "metadata": {},
   "outputs": [
    {
     "name": "stdout",
     "output_type": "stream",
     "text": [
      "[[5 1 2]\n",
      " [1 2 9]\n",
      " [1 9 7]\n",
      " [5 4 1]\n",
      " [5 7 9]]\n",
      "[5 9 9 5 9]\n"
     ]
    }
   ],
   "source": [
    "\n",
    "import numpy as np\n",
    " \n",
    "np.random.seed(10)\n",
    "a = np.random.randint(1, 10, [5, 3])\n",
    "print(a)\n",
    "b = np.amax(a, axis=1)   #找一个每行最大的\n",
    "print(b)\n"
   ]
  },
  {
   "cell_type": "code",
   "execution_count": 23,
   "id": "9aac6aec-7035-4206-9fb1-fd919ea13df0",
   "metadata": {},
   "outputs": [
    {
     "data": {
      "text/plain": [
       "array([[5, 1, 2],\n",
       "       [1, 2, 9],\n",
       "       [1, 9, 7],\n",
       "       [5, 4, 1],\n",
       "       [5, 7, 9]])"
      ]
     },
     "execution_count": 23,
     "metadata": {},
     "output_type": "execute_result"
    }
   ],
   "source": [
    "a"
   ]
  },
  {
   "cell_type": "code",
   "execution_count": 24,
   "id": "e714669e-d96d-4bb8-a791-a753be1cb8ba",
   "metadata": {},
   "outputs": [
    {
     "data": {
      "text/plain": [
       "9"
      ]
     },
     "execution_count": 24,
     "metadata": {},
     "output_type": "execute_result"
    }
   ],
   "source": [
    "np.amax(a)"
   ]
  },
  {
   "cell_type": "code",
   "execution_count": 25,
   "id": "5fe4323f-b0c2-4e93-baeb-69d255ea9751",
   "metadata": {},
   "outputs": [
    {
     "data": {
      "text/plain": [
       "array([[1],\n",
       "       [2],\n",
       "       [3]])"
      ]
     },
     "execution_count": 25,
     "metadata": {},
     "output_type": "execute_result"
    }
   ],
   "source": [
    "np.reshape([1,2,3], (-1, 1))"
   ]
  },
  {
   "cell_type": "code",
   "execution_count": 28,
   "id": "e843499a-365d-40dd-bb28-bdcac07191d5",
   "metadata": {},
   "outputs": [
    {
     "data": {
      "text/plain": [
       "array([1, 2, 3])"
      ]
     },
     "execution_count": 28,
     "metadata": {},
     "output_type": "execute_result"
    }
   ],
   "source": [
    "np.array([1,2,3]).T"
   ]
  },
  {
   "cell_type": "code",
   "execution_count": 33,
   "id": "4f3e713a-cb5d-41cf-8ed2-593535280ee8",
   "metadata": {},
   "outputs": [
    {
     "data": {
      "text/plain": [
       "array([0., 0., 0., 0., 0., 0., 0., 0., 0., 0.])"
      ]
     },
     "execution_count": 33,
     "metadata": {},
     "output_type": "execute_result"
    }
   ],
   "source": [
    "np.zeros(10)"
   ]
  },
  {
   "cell_type": "code",
   "execution_count": 34,
   "id": "9d067cb4-9616-4a40-8f5b-70c02793eeae",
   "metadata": {},
   "outputs": [
    {
     "data": {
      "text/plain": [
       "array([0., 0., 0., 0., 0., 0., 0., 0., 0., 0.])"
      ]
     },
     "execution_count": 34,
     "metadata": {},
     "output_type": "execute_result"
    }
   ],
   "source": [
    "np.zeros((10))"
   ]
  },
  {
   "cell_type": "code",
   "execution_count": 59,
   "id": "906589a2-bcc2-4044-83fd-53f0a3cdd172",
   "metadata": {},
   "outputs": [
    {
     "data": {
      "text/plain": [
       "'x1'"
      ]
     },
     "execution_count": 59,
     "metadata": {},
     "output_type": "execute_result"
    }
   ],
   "source": [
    "from typing import List\n",
    "\n",
    "import numpy as np\n",
    "\n",
    "\n",
    "class UCB1:\n",
    "    def __init__(self, models: List[str]):\n",
    "        self.models, n_models = models, len(models)\n",
    "\n",
    "        self.model_successes = np.zeros((n_models))\n",
    "        self.model_tries = np.zeros((n_models))\n",
    "\n",
    "    def _increment_model_tries(self, model: str) -> None:\n",
    "        self.model_tries[self.models.index(model)] += 1\n",
    "\n",
    "    def _get_model_with_max_ucb(self) -> str:\n",
    "        ucb_numerator = 2 * np.log(np.sum(self.model_tries))\n",
    "        per_model_means = self.model_successes / self.model_tries\n",
    "        ucb1_estimates = per_model_means + np.sqrt(ucb_numerator / self.model_tries)\n",
    "        print(ucb1_estimates)\n",
    "        return self.models[np.nanargmax(ucb1_estimates)]\n",
    "\n",
    "    def select_model(self) -> str:\n",
    "        untested_models = np.nonzero(self.model_tries == 0)[0]\n",
    "        if untested_models.size == 0:\n",
    "            best_model_so_far = self._get_model_with_max_ucb()\n",
    "            self._increment_model_tries(best_model_so_far)\n",
    "            return best_model_so_far\n",
    "        else:\n",
    "            untested_model = self.models[untested_models[0]]\n",
    "            self._increment_model_tries(untested_model)\n",
    "            return untested_model\n",
    "\n",
    "    def reward_model(self, model: str) -> None:\n",
    "        if model not in self.models:\n",
    "            raise ValueError(f\"model {model} not recognized\")\n",
    "        model_index = self.models.index(model)\n",
    "        self.model_successes[model_index] += 1\n",
    "        \n",
    "test=UCB1([\"x1\",\"x2\",\"x3\"])\n",
    "test.select_model()"
   ]
  },
  {
   "cell_type": "code",
   "execution_count": 86,
   "id": "9b6ec117-f962-4839-912d-c1257df580fd",
   "metadata": {},
   "outputs": [
    {
     "name": "stdout",
     "output_type": "stream",
     "text": [
      "[1.21335052 1.21335052 1.45895062]\n"
     ]
    },
    {
     "data": {
      "text/plain": [
       "'x3'"
      ]
     },
     "execution_count": 86,
     "metadata": {},
     "output_type": "execute_result"
    }
   ],
   "source": [
    "test.select_model()"
   ]
  },
  {
   "cell_type": "code",
   "execution_count": 83,
   "id": "b44d453d-89aa-45bf-987f-62eb4a655077",
   "metadata": {},
   "outputs": [],
   "source": [
    "test.reward_model(\"x3\")"
   ]
  },
  {
   "cell_type": "code",
   "execution_count": null,
   "id": "5e4865fc-4d42-4c91-a5e8-33fd626696a4",
   "metadata": {},
   "outputs": [],
   "source": []
  }
 ],
 "metadata": {
  "kernelspec": {
   "display_name": "Python 3 (ipykernel)",
   "language": "python",
   "name": "python3"
  },
  "language_info": {
   "codemirror_mode": {
    "name": "ipython",
    "version": 3
   },
   "file_extension": ".py",
   "mimetype": "text/x-python",
   "name": "python",
   "nbconvert_exporter": "python",
   "pygments_lexer": "ipython3",
   "version": "3.8.11"
  }
 },
 "nbformat": 4,
 "nbformat_minor": 5
}
