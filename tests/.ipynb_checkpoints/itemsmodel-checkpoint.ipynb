{
 "cells": [
  {
   "cell_type": "code",
   "execution_count": 113,
   "id": "96a466b8-e1bd-4e71-bb90-79dc8d81a32d",
   "metadata": {},
   "outputs": [],
   "source": [
    "from typing import Any, Dict, Sequence, Optional, cast, List\n",
    "import random\n",
    "import numpy as np\n",
    "import redis\n",
    "\n",
    "from onlineLearning.utils import load_save_config_file\n",
    "from onlineLearning.storage import dbEngine\n",
    "\n",
    "\n",
    "class EEItemsModel:\n",
    "    def __init__(self, config_file):\n",
    "        self.config = load_save_config_file(config_file)\n",
    "        self.r_server  = redis.StrictRedis(host= self.config.get(\"redis_host\",\"localhost\"), \n",
    "                                           port= self.config.get(\"redis_port\",6379), \n",
    "                                           db= self.config.get(\"redis_db\",1))\n",
    "        #self.db = dbEngine(self.config.get(\"db_path\",\"/\"))\n",
    "\n",
    "    @property\n",
    "    def params(self) -> Dict[str, Any]:\n",
    "\n",
    "        return { \"family\": \"EEItemsModel\" }\n",
    "\n",
    "    def _increment_model_tries(self, model: str, model_id: str=None) -> None:\n",
    "        key_tries=\"onlinemodel:eeitemmodel:{0}:{1}:tries\".format(model_id,model)\n",
    "        model_tries = self.r_server.incr(key_tries)\n",
    "        return model_tries\n",
    "\n",
    "    def get_best_model_so_far(self, model_id,topN,withscores=False):\n",
    "\n",
    "        score_key = \"onlinemodel:{0}:{1}:score_ee\".format(\"eeitemmodel\",model_id)\n",
    "        return self.r_server.zrange(score_key,0,topN-1,withscores=withscores,desc=True)\n",
    "\n",
    "    def _epsilon_greedy_selection(self, model_id:str,topN: int):\n",
    "        models = self.get_models(model_id)\n",
    "        epsilon_key = \"onlinemodel:eeitemmodel:{0}:epsilon\".format(model_id)\n",
    "        epsilon = self.r_server.get(epsilon_key)\n",
    "        if epsilon is None:\n",
    "            epsilon = 0.2\n",
    "        else:\n",
    "            epsilon = float(epsilon)\n",
    "\n",
    "        if random.random() < epsilon:\n",
    "            if topN > len(models):\n",
    "                res = random.sample(models, len(models))\n",
    "            else:\n",
    "                res = random.sample(models, topN)\n",
    "            recommendation_ids = [str(v,encoding='utf-8') for v in res]\n",
    "        else:\n",
    "            res = self.get_best_model_so_far(model_id,topN)\n",
    "            recommendation_ids = [str(v,encoding='utf-8') for v in res]\n",
    "\n",
    "        return recommendation_ids\n",
    "\n",
    "    def select_model(self,model_id,topN, ifexpose='yes',ifrecord= 'no') -> list:\n",
    "        epsilon_greedy_selection = self._epsilon_greedy_selection(model_id,topN=topN)\n",
    "        if epsilon_greedy_selection is None or len(epsilon_greedy_selection)<1:\n",
    "            return []\n",
    "        if ifexpose=='yes':\n",
    "            for item_id in epsilon_greedy_selection:\n",
    "                #更新曝光ID的 score\n",
    "                item_id = str(item_id)\n",
    "                model_tries = self._increment_model_tries(item_id, model_id)\n",
    "                success_key = \"onlinemodel:{0}:{1}:{2}:reward_successes\".format('eeitemmodel',\n",
    "                                                                                model_id,\n",
    "                                                                                item_id)\n",
    "                _reward = self.r_server.get(success_key)\n",
    "                if _reward is None:\n",
    "                    _reward = 0.0\n",
    "                else:\n",
    "                    _reward = float(_reward)\n",
    "                _model_score = _reward/(model_tries + 0.00000001)\n",
    "                score_key = \"onlinemodel:{0}:{1}:score_ee\".format(\"eeitemmodel\",model_id)\n",
    "\n",
    "                with self.r_server.pipeline() as pipe:\n",
    "                    pipe.zadd(score_key,{item_id: _model_score})\n",
    "                    pipe.execute()\n",
    "\n",
    "        return epsilon_greedy_selection\n",
    "\n",
    "    def reward_model(self, model: str,model_id:str,reward:float=None,init_model=\"no\") -> None:\n",
    "        success_key = \"onlinemodel:{0}:{1}:{2}:reward_successes\".format(\"eeitemmodel\",model_id,model)\n",
    "        score_key = \"onlinemodel:{0}:{1}:score_ee\".format(\"eeitemmodel\",model_id)\n",
    "        key_tries=\"onlinemodel:{0}:{1}:{2}:tries\".format(\"eeitemmodel\",model_id,model)\n",
    "\n",
    "        if reward is None:\n",
    "            reward = 1.0\n",
    "        _reward = self.r_server.get(success_key)\n",
    "        if _reward is None:\n",
    "            _reward = 0.0\n",
    "        else:\n",
    "            _reward = float(_reward)\n",
    "        _reward+= reward\n",
    "        self.r_server.set(success_key,_reward)\n",
    "\n",
    "        model_tries = self.r_server.get(key_tries)\n",
    "        if model_tries is None:\n",
    "            model_tries = 1 \n",
    "        else:\n",
    "            model_tries = int(model_tries)\n",
    "        if init_model == 'yes':\n",
    "            # 初始化模型时默认曝光\n",
    "            self._increment_model_tries(model,model_id)\n",
    "    \n",
    "        _model_score = _reward/float(model_tries)\n",
    "\n",
    "        with self.r_server.pipeline() as pipe:\n",
    "            pipe.zadd(score_key,{model: _model_score})\n",
    "            pipe.execute()\n",
    "\n",
    "        return True\n",
    "\n",
    "    def set_epsilon(self,model_id:str=None,epsilon:float=0.2):\n",
    "        epsilon_key = \"onlinemodel:eeitemmodel:{0}:epsilon\".format(model_id)\n",
    "        self.r_server.set(epsilon_key,epsilon)\n",
    "        return True\n",
    "\n",
    "    def add_model(self,model_id:str=None,model:str=None):\n",
    "        # model = item_id\n",
    "        key_models = \"onlinemodel:eeiemmodel:{0}:models\".format(model_id)        \n",
    "        with self.r_server.pipeline() as pipe:\n",
    "            pipe.sadd(key_models, model)\n",
    "            ## 初始化每个玩家的模型分数\n",
    "            # pipe.zadd(score_key,{model: 0.0})\n",
    "            pipe.execute()\n",
    "\n",
    "        return True\n",
    "    def del_model(self,model_id:str,model:str):\n",
    "        key_models = \"onlinemodel:eeiemmodel:{0}:models\".format(model_id)        \n",
    "        with self.r_server.pipeline() as pipe:\n",
    "            pipe.srem(key_models, model)\n",
    "            ## 初始化每个玩家的模型分数\n",
    "            # pipe.zadd(score_key,{model: 0.0})\n",
    "            pipe.execute()\n",
    "\n",
    "    def get_models(self,model_id:str=None):\n",
    "        key_models = \"onlinemodel:eeiemmodel:{0}:models\".format(model_id)\n",
    "        models = self.r_server.smembers(key_models)\n",
    "        return models\n",
    "    \n",
    "    def filter_model(self,model:str, model_id:str=None):\n",
    "        score_key = \"onlinemodel:{0}:{1}:score_ee\".format(\"eeitemmodel\",model_id)\n",
    "        with self.r_server.pipeline() as pipe:\n",
    "            pipe.zadd(score_key,{model: -100.0})\n",
    "            pipe.execute()\n",
    "        return True\n",
    "        \n",
    "\n",
    "class UCB1ItemsModel:\n",
    "    def __init__(self, config_file):\n",
    "        self.config = load_save_config_file(config_file)\n",
    "        self.r_server  = redis.StrictRedis(host= self.config.get(\"redis_host\",\"localhost\"), \n",
    "                                           port= self.config.get(\"redis_port\",6379), \n",
    "                                           db= self.config.get(\"redis_db\",1)\n",
    "                                          )\n",
    "        #self.db = dbEngine(self.config.get(\"db_path\",\"/\"))\n",
    "\n",
    "    @property\n",
    "    def params(self) -> Dict[str, Any]:\n",
    "\n",
    "        return { \"family\": \"UCB1ItemsModel\" }\n",
    "\n",
    "    def _increment_model_tries(self, model: str, model_id: str=None) -> None:\n",
    "        key_tries=\"onlinemodel:ucb1itemmodel:{0}:{1}:tries\".format(model_id,model)\n",
    "        key_alltries=\"onlinemodel:ucb1itemmodel:{0}:tries\".format(model_id)\n",
    "        model_tries = self.r_server.incr(key_tries)\n",
    "        all_model_tries = self.r_server.incr(key_alltries)\n",
    "\n",
    "        return model_tries,all_model_tries\n",
    "\n",
    "    def get_best_model_so_far(self, model_id,topN,withscores=False):\n",
    "        score_key = \"onlinemodel:{0}:{1}:score_ee\".format(\"ucb1itemmodel\",model_id)\n",
    "        return self.r_server.zrange(score_key,0,topN-1,withscores=withscores,desc=True)\n",
    "\n",
    "    def _get_model_with_max_ucb(self, model_id:str, topN: int):\n",
    "        res = self.get_best_model_so_far(model_id,topN)\n",
    "        recommendation_ids = [str(v,encoding='utf-8') for v in res]\n",
    "        return recommendation_ids\n",
    "\n",
    "    def select_model(self, model_id,topN, ifexpose='yes',ifrecord= 'no') -> list:\n",
    "        ucb1_selection = self._get_model_with_max_ucb(model_id,topN=topN)\n",
    "        if len(ucb1_selection)<1:\n",
    "            return []\n",
    "        if ifexpose=='yes':\n",
    "            \n",
    "            for item_id in ucb1_selection:\n",
    "                success_key = \"onlinemodel:{0}:{1}:{2}:reward_successes\".format('ucb1itemmodel',\n",
    "                                                                                model_id,\n",
    "                                                                                item_id)\n",
    "                _reward = self.r_server.get(success_key)\n",
    "                if _reward is None:\n",
    "                    _reward = 0.0\n",
    "                else:\n",
    "                    _reward = float(_reward)\n",
    "                #更新曝光ID的 score\n",
    "                item_id = str(item_id)\n",
    "                model_tries,all_model_tries = self._increment_model_tries(item_id, model_id)\n",
    "\n",
    "                ucb_numerator = 2 * np.log(np.sum(all_model_tries))\n",
    "                per_model_means = _reward / (model_tries+0.0000001)\n",
    "                ucb1_estimates = per_model_means + np.sqrt(ucb_numerator / (model_tries+0.0000001))\n",
    "                \n",
    "                score_key = \"onlinemodel:{0}:{1}:score_ee\".format(\"ucb1itemmodel\",model_id)\n",
    "\n",
    "                with self.r_server.pipeline() as pipe:\n",
    "                    pipe.zadd(score_key,{item_id: ucb1_estimates})\n",
    "                    pipe.execute()\n",
    "\n",
    "        return ucb1_selection\n",
    "\n",
    "    def reward_model(self, model: str,model_id:str,reward:float=None,init_model=\"no\") -> None:\n",
    "        success_key = \"onlinemodel:{0}:{1}:{2}:reward_successes\".format(\"ucb1itemmodel\",\n",
    "                                                                        model_id,\n",
    "                                                                        model)\n",
    "        score_key = \"onlinemodel:{0}:{1}:score_ee\".format(\"ucb1itemmodel\",model_id)\n",
    "        key_tries=\"onlinemodel:{0}:{1}:{2}:tries\".format(\"ucb1itemmodel\",model_id,model)\n",
    "        key_alltries=\"onlinemodel:ucb1itemmodel:{0}:tries\".format(model_id)\n",
    "\n",
    "        if reward is None:\n",
    "            reward = 1.0\n",
    "        _reward = self.r_server.get(success_key)\n",
    "        if _reward is None:\n",
    "            _reward = 0.0\n",
    "        else:\n",
    "            _reward = float(_reward)\n",
    "        _reward+= reward\n",
    "        self.r_server.set(success_key,_reward)\n",
    "\n",
    "        model_tries = self.r_server.get(key_tries)\n",
    "        all_model_tries = self.r_server.get(key_alltries)\n",
    "        if all_model_tries is None:\n",
    "            all_model_tries = 1\n",
    "        else:\n",
    "            all_model_tries = int(all_model_tries)\n",
    "        if model_tries is None:\n",
    "            model_tries = 1\n",
    "        else:\n",
    "            model_tries = int(model_tries)\n",
    "        if init_model == 'yes':\n",
    "            # 初始化模型时默认曝光\n",
    "            self._increment_model_tries(model,model_id)\n",
    "\n",
    "        ucb_numerator = 2 * np.log(np.sum(all_model_tries))\n",
    "        per_model_means = _reward / float(model_tries)\n",
    "        ucb1_estimates = per_model_means + np.sqrt(ucb_numerator / float(model_tries))\n",
    "\n",
    "        with self.r_server.pipeline() as pipe:\n",
    "            pipe.zadd(score_key,{model: ucb1_estimates})\n",
    "            pipe.execute()\n",
    "\n",
    "        return True\n",
    "    def filter_model(self,model:str, model_id:str=None):\n",
    "        score_key = \"onlinemodel:{0}:{1}:score_ee\".format(\"ucb1itemmodel\",model_id)\n",
    "        with self.r_server.pipeline() as pipe:\n",
    "            pipe.zadd(score_key,{model: -100.0})\n",
    "            pipe.execute()\n",
    "        return True"
   ]
  },
  {
   "cell_type": "code",
   "execution_count": 40,
   "id": "554d6de2-cd5b-452b-add9-94fd70d48444",
   "metadata": {},
   "outputs": [],
   "source": [
    "ucb = UCB1ItemsModel(\"config.yml\")"
   ]
  },
  {
   "cell_type": "code",
   "execution_count": 55,
   "id": "6235635e-98d7-455d-a951-e65fcbfddcee",
   "metadata": {},
   "outputs": [
    {
     "data": {
      "text/plain": [
       "['i2', 'i3']"
      ]
     },
     "execution_count": 55,
     "metadata": {},
     "output_type": "execute_result"
    }
   ],
   "source": [
    "ucb.select_model(\"ucbmodel\",2)"
   ]
  },
  {
   "cell_type": "code",
   "execution_count": 46,
   "id": "177353ce-30c0-45b9-881a-4bd7c98dfc10",
   "metadata": {},
   "outputs": [
    {
     "data": {
      "text/plain": [
       "True"
      ]
     },
     "execution_count": 46,
     "metadata": {},
     "output_type": "execute_result"
    }
   ],
   "source": [
    "ucb.reward_model( \"i3\",model_id=\"ucbmodel\",init_model=\"yes\")"
   ]
  },
  {
   "cell_type": "code",
   "execution_count": 114,
   "id": "e584a1a2-52a5-4170-a8f2-0afd2e9853f6",
   "metadata": {},
   "outputs": [],
   "source": [
    "ee = EEItemsModel(\"config.yml\")"
   ]
  },
  {
   "cell_type": "code",
   "execution_count": 122,
   "id": "9a98fd2b-af66-426f-b800-02d7f19ccb93",
   "metadata": {},
   "outputs": [
    {
     "name": "stdout",
     "output_type": "stream",
     "text": [
      "['i3']\n",
      "['i3']\n",
      "['i2', 'i1']\n",
      "['i2', 'i1']\n",
      "['i2', 'i1']\n",
      "['i2', 'i3']\n",
      "['i2', 'i1']\n",
      "['i2', 'i3']\n",
      "['i2', 'i1']\n",
      "['i2', 'i3']\n"
     ]
    }
   ],
   "source": [
    "for i in range(10):\n",
    "    print(ee.select_model(\"ucbmodel\",2))"
   ]
  },
  {
   "cell_type": "code",
   "execution_count": 108,
   "id": "aab06a80-0a23-44fe-85bc-7acb8bd3158f",
   "metadata": {},
   "outputs": [
    {
     "data": {
      "text/plain": [
       "[b'i1', b'i3']"
      ]
     },
     "execution_count": 108,
     "metadata": {},
     "output_type": "execute_result"
    }
   ],
   "source": [
    "random.sample({b'i3', b'i2', b'i1'}, 2)"
   ]
  },
  {
   "cell_type": "code",
   "execution_count": 100,
   "id": "e38c4977-7f82-43e1-8cff-062b7eaaf48a",
   "metadata": {},
   "outputs": [
    {
     "data": {
      "text/plain": [
       "True"
      ]
     },
     "execution_count": 100,
     "metadata": {},
     "output_type": "execute_result"
    }
   ],
   "source": [
    "ee.reward_model( \"i2\",model_id=\"ucbmodel\",init_model=\"yes\")"
   ]
  },
  {
   "cell_type": "code",
   "execution_count": 119,
   "id": "90b1ccea-46c9-4818-93e0-209c085c62d6",
   "metadata": {},
   "outputs": [],
   "source": [
    "ee.del_model(\"ucbmodel\",\"i2\")"
   ]
  },
  {
   "cell_type": "code",
   "execution_count": 144,
   "id": "68919a70-d3d9-440b-90e9-f82f85cafcb9",
   "metadata": {},
   "outputs": [
    {
     "data": {
      "text/plain": [
       "5"
      ]
     },
     "execution_count": 144,
     "metadata": {},
     "output_type": "execute_result"
    }
   ],
   "source": [
    "v=ee.r_server.incr(\"sfdfr\")\n",
    "v"
   ]
  },
  {
   "cell_type": "code",
   "execution_count": 141,
   "id": "0903763a-5129-40b1-86a8-f33f346827bf",
   "metadata": {},
   "outputs": [
    {
     "data": {
      "text/plain": [
       "b'2'"
      ]
     },
     "execution_count": 141,
     "metadata": {},
     "output_type": "execute_result"
    }
   ],
   "source": [
    "ee.r_server.get(\"sfdfr\")"
   ]
  },
  {
   "cell_type": "code",
   "execution_count": 143,
   "id": "b25b1a63-a9d5-4566-ba11-278860dfe6ba",
   "metadata": {},
   "outputs": [
    {
     "data": {
      "text/plain": [
       "True"
      ]
     },
     "execution_count": 143,
     "metadata": {},
     "output_type": "execute_result"
    }
   ],
   "source": [
    "ee.r_server.set(\"sfdfr\",4)"
   ]
  },
  {
   "cell_type": "code",
   "execution_count": 18,
   "id": "0a5d3cc1-9865-456a-92de-a519e7a746c9",
   "metadata": {},
   "outputs": [
    {
     "data": {
      "text/plain": [
       "True"
      ]
     },
     "execution_count": 18,
     "metadata": {},
     "output_type": "execute_result"
    }
   ],
   "source": [
    "data = {\"redis_host\":\"localhost\"}\n",
    "load_save_config_file(\"config.yml\",ops_type=\"save\",data=data)"
   ]
  },
  {
   "cell_type": "code",
   "execution_count": 11,
   "id": "501761ba-b119-44c9-885f-59670ea490d4",
   "metadata": {},
   "outputs": [
    {
     "data": {
      "text/plain": [
       "-7.697414907005954"
      ]
     },
     "execution_count": 11,
     "metadata": {},
     "output_type": "execute_result"
    }
   ],
   "source": [
    "np.log(np.sum(10)) -10"
   ]
  },
  {
   "cell_type": "code",
   "execution_count": 1,
   "id": "11cb3b16-1d84-4e2c-8e3f-5ba1be9b573d",
   "metadata": {},
   "outputs": [],
   "source": [
    "from onlineLearning.storage import dbEngine\n"
   ]
  },
  {
   "cell_type": "code",
   "execution_count": 5,
   "id": "cf03cf7a-7d34-471e-a279-b11c88d6a827",
   "metadata": {},
   "outputs": [
    {
     "data": {
      "text/plain": [
       "[]"
      ]
     },
     "execution_count": 5,
     "metadata": {},
     "output_type": "execute_result"
    }
   ],
   "source": [
    "res=[]\n",
    "[str(v,encoding='utf-8') for v in res]"
   ]
  },
  {
   "cell_type": "code",
   "execution_count": 53,
   "id": "43004263-7cfd-4478-aa71-a3e1cd350b04",
   "metadata": {},
   "outputs": [],
   "source": [
    "test = EEItemsModel([\"x1\",\"x2\"])"
   ]
  },
  {
   "cell_type": "code",
   "execution_count": 64,
   "id": "f8a1fb32-ef70-46bb-852b-07c1ff228d40",
   "metadata": {},
   "outputs": [
    {
     "name": "stdout",
     "output_type": "stream",
     "text": [
      "[0.025 0.025] [40. 40.]\n",
      "x1\n",
      "[0.02439024 0.025     ] [41. 40.]\n",
      "x2\n",
      "[0.02439024 0.02439024] [41. 41.]\n",
      "x1\n",
      "x2\n",
      "[0.02380952 0.02380952] [42. 42.]\n",
      "x1\n",
      "x1\n",
      "[0.02272727 0.02380952] [44. 42.]\n",
      "x2\n",
      "x1\n",
      "[0.02222222 0.02325581] [45. 43.]\n",
      "x2\n",
      "[0.02222222 0.02272727] [45. 44.]\n",
      "x2\n"
     ]
    }
   ],
   "source": [
    "for i in range(10):\n",
    "    t=test.select_model()\n",
    "    print(t)"
   ]
  },
  {
   "cell_type": "code",
   "execution_count": 58,
   "id": "e7cdba6f-24a3-4fe6-aab6-00773498a916",
   "metadata": {},
   "outputs": [],
   "source": [
    "test.reward_model(\"x2\")"
   ]
  },
  {
   "cell_type": "code",
   "execution_count": 65,
   "id": "998106cd-7a4e-4f6b-92be-b537de58b7db",
   "metadata": {},
   "outputs": [],
   "source": [
    "import sys\n",
    "from importlib import _bootstrap\n",
    "\n",
    "\n",
    "\"\"\"\n",
    "Copied from django.utils.module_loading\n",
    "\"\"\"\n",
    "\n",
    "\n",
    "def import_module(name, package=None):\n",
    "    \"\"\"Import a module.\n",
    "    The 'package' argument is required when performing a relative import. It\n",
    "    specifies the package to use as the anchor point from which to resolve the\n",
    "    relative import to an absolute import.\n",
    "    \"\"\"\n",
    "    level = 0\n",
    "    if name.startswith('.'):\n",
    "        if not package:\n",
    "            msg = (\"the 'package' argument is required to perform a relative \"\n",
    "                   \"import for {!r}\")\n",
    "            raise TypeError(msg.format(name))\n",
    "        for character in name:\n",
    "            if character != '.':\n",
    "                break\n",
    "            level += 1\n",
    "    return _bootstrap._gcd_import(name[level:], package, level)\n",
    "\n",
    "\n",
    "def import_string(dotted_path):\n",
    "    \"\"\"\n",
    "    Import a dotted module path and return the attribute/class designated by the\n",
    "    last name in the path. Raise ImportError if the import failed.\n",
    "    \"\"\"\n",
    "    try:\n",
    "        module_path, class_name = dotted_path.rsplit('.', 1)\n",
    "    except ValueError as err:\n",
    "        raise ImportError(\"%s doesn't look like a module path\" % dotted_path) from err\n",
    "\n",
    "    module = import_module(module_path)\n",
    "\n",
    "    try:\n",
    "        return getattr(module, class_name)\n",
    "    except AttributeError as err:\n",
    "        raise ImportError('Module \"%s\" does not define a \"%s\" attribute/class' % (\n",
    "            module_path, class_name)) from err"
   ]
  },
  {
   "cell_type": "code",
   "execution_count": 72,
   "id": "dd031422-c67c-4a35-8e91-7d37e1e0d25b",
   "metadata": {},
   "outputs": [],
   "source": [
    "c= import_string(\"filters.Pipe\")"
   ]
  },
  {
   "cell_type": "code",
   "execution_count": 73,
   "id": "fccbd4c6-0ca1-4a72-a5b2-205fffc60366",
   "metadata": {},
   "outputs": [
    {
     "data": {
      "text/plain": [
       "<filters.Pipe at 0x10687dee0>"
      ]
     },
     "execution_count": 73,
     "metadata": {},
     "output_type": "execute_result"
    }
   ],
   "source": [
    "c()"
   ]
  },
  {
   "cell_type": "code",
   "execution_count": 95,
   "id": "ecfab2fa-8b3a-4c6e-8eff-1308dad36590",
   "metadata": {},
   "outputs": [],
   "source": []
  },
  {
   "cell_type": "code",
   "execution_count": null,
   "id": "9d9e2d0e-8f4e-4951-820b-b8d8a284ed42",
   "metadata": {},
   "outputs": [],
   "source": []
  },
  {
   "cell_type": "code",
   "execution_count": null,
   "id": "78a54151-6971-4f95-b3a5-c5e64878a358",
   "metadata": {},
   "outputs": [],
   "source": []
  },
  {
   "cell_type": "code",
   "execution_count": 96,
   "id": "f278eec3-aa5e-4f50-b4e4-5d6c851f116f",
   "metadata": {},
   "outputs": [
    {
     "name": "stdout",
     "output_type": "stream",
     "text": [
      "/Users/leepand/Downloads/player_ds_platform/full_stack/mlops-project/online-mab/onlineLearning/tests\n"
     ]
    }
   ],
   "source": [
    "!pwd"
   ]
  },
  {
   "cell_type": "code",
   "execution_count": 1,
   "id": "ca9ec813-b226-4ca8-9556-058c6719231a",
   "metadata": {},
   "outputs": [],
   "source": [
    "from onlineLearning.storage import YAMLDataSet"
   ]
  },
  {
   "cell_type": "code",
   "execution_count": 3,
   "id": "a1268fda-b0a5-4f51-aac1-0e3130108c77",
   "metadata": {},
   "outputs": [],
   "source": [
    "data = {'col1': [1, 2], 'col2': [4, 5], 'col3': [5, 6]}\n",
    "data_set = YAMLDataSet(filepath=\"test.yaml\")\n",
    "data_set.save(data)"
   ]
  },
  {
   "cell_type": "code",
   "execution_count": 5,
   "id": "542fda1d-583f-4512-ad23-c6fa41df9ebf",
   "metadata": {},
   "outputs": [
    {
     "data": {
      "text/plain": [
       "[1, 2]"
      ]
     },
     "execution_count": 5,
     "metadata": {},
     "output_type": "execute_result"
    }
   ],
   "source": [
    "data_set.load()[\"col1\"]"
   ]
  },
  {
   "cell_type": "code",
   "execution_count": 2,
   "id": "5739e6cb-515c-4416-8113-2713baf436c2",
   "metadata": {},
   "outputs": [
    {
     "name": "stdout",
     "output_type": "stream",
     "text": [
      "Help on class YAMLDataSet in module onlineLearning.storage.yaml_dataset:\n",
      "\n",
      "class YAMLDataSet(onlineLearning.storage.base.AbstractVersionedDataSet)\n",
      " |  YAMLDataSet(filepath: str, save_args: Dict[str, Any] = None, version: onlineLearning.storage.base.Version = None, credentials: Dict[str, Any] = None, fs_args: Dict[str, Any] = None) -> None\n",
      " |  \n",
      " |  ``YAMLDataSet`` loads/saves data from/to a YAML file using an underlying\n",
      " |  filesystem (e.g.: local, S3, GCS). It uses PyYAML to handle the YAML file.\n",
      " |  Example:\n",
      " |  ::\n",
      " |      >>> from kedro.extras.datasets.yaml import YAMLDataSet\n",
      " |      >>>\n",
      " |      >>> data = {'col1': [1, 2], 'col2': [4, 5], 'col3': [5, 6]}\n",
      " |      >>>\n",
      " |      >>> # data_set = YAMLDataSet(filepath=\"gcs://bucket/test.yaml\")\n",
      " |      >>> data_set = YAMLDataSet(filepath=\"test.yaml\")\n",
      " |      >>> data_set.save(data)\n",
      " |      >>> reloaded = data_set.load()\n",
      " |      >>> assert data == reloaded\n",
      " |  \n",
      " |  Method resolution order:\n",
      " |      YAMLDataSet\n",
      " |      onlineLearning.storage.base.AbstractVersionedDataSet\n",
      " |      onlineLearning.storage.base.AbstractDataSet\n",
      " |      abc.ABC\n",
      " |      builtins.object\n",
      " |  \n",
      " |  Methods defined here:\n",
      " |  \n",
      " |  __init__(self, filepath: str, save_args: Dict[str, Any] = None, version: onlineLearning.storage.base.Version = None, credentials: Dict[str, Any] = None, fs_args: Dict[str, Any] = None) -> None\n",
      " |      Creates a new instance of ``YAMLDataSet`` pointing to a concrete YAML file\n",
      " |      on a specific filesystem.\n",
      " |      Args:\n",
      " |          filepath: Filepath in POSIX format to a YAML file prefixed with a protocol like `s3://`.\n",
      " |              If prefix is not provided, `file` protocol (local filesystem) will be used.\n",
      " |              The prefix should be any protocol supported by ``fsspec``.\n",
      " |              Note: `http(s)` doesn't support versioning.\n",
      " |          save_args: PyYAML options for saving YAML files (arguments passed\n",
      " |              into ```yaml.dump``). Here you can find all available arguments:\n",
      " |              https://pyyaml.org/wiki/PyYAMLDocumentation\n",
      " |              All defaults are preserved, but \"default_flow_style\", which is set to False.\n",
      " |          version: If specified, should be an instance of\n",
      " |              ``kedro.io.core.Version``. If its ``load`` attribute is\n",
      " |              None, the latest version will be loaded. If its ``save``\n",
      " |              attribute is None, save version will be autogenerated.\n",
      " |          credentials: Credentials required to get access to the underlying filesystem.\n",
      " |              E.g. for ``GCSFileSystem`` it should look like `{\"token\": None}`.\n",
      " |          fs_args: Extra arguments to pass into underlying filesystem class constructor\n",
      " |              (e.g. `{\"project\": \"my-project\"}` for ``GCSFileSystem``), as well as\n",
      " |              to pass to the filesystem's `open` method through nested keys\n",
      " |              `open_args_load` and `open_args_save`.\n",
      " |              Here you can find all available arguments for `open`:\n",
      " |              https://filesystem-spec.readthedocs.io/en/latest/api.html#fsspec.spec.AbstractFileSystem.open\n",
      " |              All defaults are preserved, except `mode`, which is set to `r` when loading\n",
      " |              and to `w` when saving.\n",
      " |  \n",
      " |  ----------------------------------------------------------------------\n",
      " |  Data and other attributes defined here:\n",
      " |  \n",
      " |  DEFAULT_SAVE_ARGS = {'default_flow_style': False}\n",
      " |  \n",
      " |  __abstractmethods__ = frozenset()\n",
      " |  \n",
      " |  ----------------------------------------------------------------------\n",
      " |  Methods inherited from onlineLearning.storage.base.AbstractVersionedDataSet:\n",
      " |  \n",
      " |  exists(self) -> bool\n",
      " |      Checks whether a data set's output already exists by calling\n",
      " |      the provided _exists() method.\n",
      " |      Returns:\n",
      " |          Flag indicating whether the output already exists.\n",
      " |      Raises:\n",
      " |          DataSetError: when underlying exists method raises error.\n",
      " |  \n",
      " |  load(self) -> Any\n",
      " |      Loads data by delegation to the provided load method.\n",
      " |      Returns:\n",
      " |          Data returned by the provided load method.\n",
      " |      Raises:\n",
      " |          DataSetError: When underlying load method raises error.\n",
      " |  \n",
      " |  resolve_load_version(self) -> Union[str, NoneType]\n",
      " |      Compute the version the dataset should be loaded with.\n",
      " |  \n",
      " |  resolve_save_version(self) -> Union[str, NoneType]\n",
      " |      Compute the version the dataset should be saved with.\n",
      " |  \n",
      " |  save(self, data: Any) -> None\n",
      " |      Saves data by delegation to the provided save method.\n",
      " |      Args:\n",
      " |          data: the value to be saved by provided save method.\n",
      " |      Raises:\n",
      " |          DataSetError: when underlying save method raises error.\n",
      " |          FileNotFoundError: when save method got file instead of dir, on Windows.\n",
      " |          NotADirectoryError: when save method got file instead of dir, on Unix.\n",
      " |  \n",
      " |  ----------------------------------------------------------------------\n",
      " |  Methods inherited from onlineLearning.storage.base.AbstractDataSet:\n",
      " |  \n",
      " |  __str__(self)\n",
      " |      Return str(self).\n",
      " |  \n",
      " |  release(self) -> None\n",
      " |      Release any cached data.\n",
      " |      Raises:\n",
      " |          DataSetError: when underlying release method raises error.\n",
      " |  \n",
      " |  ----------------------------------------------------------------------\n",
      " |  Class methods inherited from onlineLearning.storage.base.AbstractDataSet:\n",
      " |  \n",
      " |  from_config(name: str, config: Dict[str, Any], load_version: str = None, save_version: str = None) -> 'AbstractDataSet' from abc.ABCMeta\n",
      " |      Create a data set instance using the configuration provided.\n",
      " |      Args:\n",
      " |          name: Data set name.\n",
      " |          config: Data set config dictionary.\n",
      " |          load_version: Version string to be used for ``load`` operation if\n",
      " |              the data set is versioned. Has no effect on the data set\n",
      " |              if versioning was not enabled.\n",
      " |          save_version: Version string to be used for ``save`` operation if\n",
      " |              the data set is versioned. Has no effect on the data set\n",
      " |              if versioning was not enabled.\n",
      " |      Returns:\n",
      " |          An instance of an ``AbstractDataSet`` subclass.\n",
      " |      Raises:\n",
      " |          DataSetError: When the function fails to create the data set\n",
      " |              from its config.\n",
      " |  \n",
      " |  ----------------------------------------------------------------------\n",
      " |  Data descriptors inherited from onlineLearning.storage.base.AbstractDataSet:\n",
      " |  \n",
      " |  __dict__\n",
      " |      dictionary for instance variables (if defined)\n",
      " |  \n",
      " |  __weakref__\n",
      " |      list of weak references to the object (if defined)\n",
      "\n"
     ]
    }
   ],
   "source": [
    "help(YAMLDataSet)"
   ]
  },
  {
   "cell_type": "code",
   "execution_count": null,
   "id": "6a41574a-4bbe-4b41-b610-59c8476d15a5",
   "metadata": {},
   "outputs": [],
   "source": []
  }
 ],
 "metadata": {
  "kernelspec": {
   "display_name": "Python 3 (ipykernel)",
   "language": "python",
   "name": "python3"
  },
  "language_info": {
   "codemirror_mode": {
    "name": "ipython",
    "version": 3
   },
   "file_extension": ".py",
   "mimetype": "text/x-python",
   "name": "python",
   "nbconvert_exporter": "python",
   "pygments_lexer": "ipython3",
   "version": "3.8.11"
  }
 },
 "nbformat": 4,
 "nbformat_minor": 5
}
