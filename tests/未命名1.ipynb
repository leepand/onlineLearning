{
 "cells": [
  {
   "cell_type": "code",
   "execution_count": 5,
   "id": "3caadea8-fbfc-454d-9fd4-37453ef69d75",
   "metadata": {},
   "outputs": [],
   "source": [
    "from encodings1 import InteractionsEncoder"
   ]
  },
  {
   "cell_type": "code",
   "execution_count": 54,
   "id": "72e27605-a25e-4aaf-b308-d9898c059ce2",
   "metadata": {},
   "outputs": [
    {
     "data": {
      "text/plain": [
       "array([[1, 1, 1, 1],\n",
       "       [2, 2, 2, 2],\n",
       "       [3, 3, 3, 3]])"
      ]
     },
     "execution_count": 54,
     "metadata": {},
     "output_type": "execute_result"
    }
   ],
   "source": [
    "import numpy as np\n",
    "actions = [\"E04\",\"A01\",\"S01\",\"S02\"]\n",
    "context = [1,2,3]\n",
    "features = np.array([context for action in actions]).T\n",
    "features"
   ]
  },
  {
   "cell_type": "code",
   "execution_count": 182,
   "id": "25ae40aa-8b2d-4c34-9a83-aab81145024e",
   "metadata": {},
   "outputs": [
    {
     "data": {
      "text/plain": [
       "array([[1, 1],\n",
       "       [1, 2],\n",
       "       [1, 2],\n",
       "       [2, 4],\n",
       "       [3, 6]])"
      ]
     },
     "execution_count": 182,
     "metadata": {},
     "output_type": "execute_result"
    }
   ],
   "source": [
    "from filters import Flatten\n",
    "_features = [1,'a', 'ax']\n",
    "context = [1,2,3]\n",
    "actions = {1:[1,1,1,1],2:[1,1,1,1]}\n",
    "_X_encoder = InteractionsEncoder(_features)\n",
    "context = list(Flatten().filter([list(context)]))[0] if context else []\n",
    "features: np.ndarray = np.array([_X_encoder.encode(x=context,a=action) for action in actions]).T\n",
    "features"
   ]
  },
  {
   "cell_type": "code",
   "execution_count": 183,
   "id": "8bc69493-4b5b-4975-9f6d-24b5822791d6",
   "metadata": {},
   "outputs": [
    {
     "name": "stdout",
     "output_type": "stream",
     "text": [
      "1\n",
      "2\n"
     ]
    }
   ],
   "source": [
    "for action in actions:\n",
    "    print(action)"
   ]
  },
  {
   "cell_type": "code",
   "execution_count": 188,
   "id": "174d6183-73cb-4bea-a17b-56769e0b8f4a",
   "metadata": {},
   "outputs": [
    {
     "data": {
      "text/plain": [
       "array([[1, 1],\n",
       "       [1, 1],\n",
       "       [1, 1],\n",
       "       [2, 2],\n",
       "       [3, 3]])"
      ]
     },
     "execution_count": 188,
     "metadata": {},
     "output_type": "execute_result"
    }
   ],
   "source": [
    "from filters import Flatten\n",
    "_features = [1,'a', 'ax']\n",
    "context = [1,2,3]\n",
    "actions = [1,1]\n",
    "_X_encoder = InteractionsEncoder(_features)\n",
    "context = list(Flatten().filter([list(context)]))[0] if context else []\n",
    "features: np.ndarray = np.array([_X_encoder.encode(x=context,a=action) for action in actions]).T\n",
    "features"
   ]
  },
  {
   "cell_type": "code",
   "execution_count": 191,
   "id": "fb001fd4-21ca-4600-86db-d32d488967ad",
   "metadata": {},
   "outputs": [
    {
     "data": {
      "text/plain": [
       "array([[1],\n",
       "       [2],\n",
       "       [2],\n",
       "       [4],\n",
       "       [6]])"
      ]
     },
     "execution_count": 191,
     "metadata": {},
     "output_type": "execute_result"
    }
   ],
   "source": [
    "action = 2\n",
    "features2: np.ndarray = np.array([_X_encoder.encode(x=context,a=action)]).T\n",
    "features2"
   ]
  },
  {
   "cell_type": "code",
   "execution_count": 260,
   "id": "1a626073-bf4a-4873-a29a-6c8dcd02533c",
   "metadata": {},
   "outputs": [
    {
     "data": {
      "text/plain": [
       "array([[ 2.],\n",
       "       [ 4.],\n",
       "       [ 4.],\n",
       "       [ 8.],\n",
       "       [12.]])"
      ]
     },
     "execution_count": 260,
     "metadata": {},
     "output_type": "execute_result"
    }
   ],
   "source": [
    "v+features2.T.dot(2)\n"
   ]
  },
  {
   "cell_type": "code",
   "execution_count": 209,
   "id": "cdf60e7e-c56f-40e0-9d7e-780c32557bfe",
   "metadata": {},
   "outputs": [
    {
     "data": {
      "text/plain": [
       "array([0.])"
      ]
     },
     "execution_count": 209,
     "metadata": {},
     "output_type": "execute_result"
    }
   ],
   "source": [
    "action = 2\n",
    "features2 = np.array([_X_encoder.encode(x=context,a=action)])\n",
    "features2@v"
   ]
  },
  {
   "cell_type": "code",
   "execution_count": 259,
   "id": "bc3a69d8-f9a5-4687-a682-294d3dc75844",
   "metadata": {},
   "outputs": [
    {
     "data": {
      "text/plain": [
       "array([[0.],\n",
       "       [0.],\n",
       "       [0.],\n",
       "       [0.],\n",
       "       [0.]])"
      ]
     },
     "execution_count": 259,
     "metadata": {},
     "output_type": "execute_result"
    }
   ],
   "source": [
    "v"
   ]
  },
  {
   "cell_type": "code",
   "execution_count": 210,
   "id": "dc7c80de-4c19-4216-821f-a535c7d74226",
   "metadata": {},
   "outputs": [
    {
     "ename": "ValueError",
     "evalue": "matmul: Input operand 1 has a mismatch in its core dimension 0, with gufunc signature (n?,k),(k,m?)->(n?,m?) (size 1 is different from 5)",
     "output_type": "error",
     "traceback": [
      "\u001b[0;31m---------------------------------------------------------------------------\u001b[0m",
      "\u001b[0;31mValueError\u001b[0m                                Traceback (most recent call last)",
      "Input \u001b[0;32mIn [210]\u001b[0m, in \u001b[0;36m<module>\u001b[0;34m\u001b[0m\n\u001b[0;32m----> 1\u001b[0m \u001b[43mv\u001b[49m\u001b[38;5;129;43m@features2\u001b[39;49m\n",
      "\u001b[0;31mValueError\u001b[0m: matmul: Input operand 1 has a mismatch in its core dimension 0, with gufunc signature (n?,k),(k,m?)->(n?,m?) (size 1 is different from 5)"
     ]
    }
   ],
   "source": [
    "v@features2"
   ]
  },
  {
   "cell_type": "code",
   "execution_count": 225,
   "id": "474356e0-e59b-4fae-af2b-200bc43aceda",
   "metadata": {},
   "outputs": [
    {
     "data": {
      "text/plain": [
       "array([[1, 2, 2, 4, 6]])"
      ]
     },
     "execution_count": 225,
     "metadata": {},
     "output_type": "execute_result"
    }
   ],
   "source": [
    "features2"
   ]
  },
  {
   "cell_type": "code",
   "execution_count": 203,
   "id": "c03d9227-bd7a-4441-8074-783d0b5246b0",
   "metadata": {},
   "outputs": [
    {
     "data": {
      "text/plain": [
       "(5,)"
      ]
     },
     "execution_count": 203,
     "metadata": {},
     "output_type": "execute_result"
    }
   ],
   "source": [
    "v.shape"
   ]
  },
  {
   "cell_type": "code",
   "execution_count": 198,
   "id": "4f99c1d9-6ab2-4b1a-b180-18ea85588c42",
   "metadata": {},
   "outputs": [
    {
     "ename": "ValueError",
     "evalue": "The truth value of an array with more than one element is ambiguous. Use a.any() or a.all()",
     "output_type": "error",
     "traceback": [
      "\u001b[0;31m---------------------------------------------------------------------------\u001b[0m",
      "\u001b[0;31mValueError\u001b[0m                                Traceback (most recent call last)",
      "Input \u001b[0;32mIn [198]\u001b[0m, in \u001b[0;36m<module>\u001b[0;34m\u001b[0m\n\u001b[0;32m----> 1\u001b[0m \u001b[38;5;28mlist\u001b[39m(Flatten()\u001b[38;5;241m.\u001b[39mfilter([\u001b[38;5;28mlist\u001b[39m(features2)]))[\u001b[38;5;241m0\u001b[39m] \u001b[38;5;28;01mif\u001b[39;00m features2 \u001b[38;5;28;01melse\u001b[39;00m []\n",
      "\u001b[0;31mValueError\u001b[0m: The truth value of an array with more than one element is ambiguous. Use a.any() or a.all()"
     ]
    }
   ],
   "source": [
    "list(Flatten().filter([list(features2)]))[0] if features2 else []"
   ]
  },
  {
   "cell_type": "code",
   "execution_count": 222,
   "id": "2b09c803-4b7c-40e1-8552-574de42444c0",
   "metadata": {},
   "outputs": [
    {
     "data": {
      "text/plain": [
       "(1, 5)"
      ]
     },
     "execution_count": 222,
     "metadata": {},
     "output_type": "execute_result"
    }
   ],
   "source": [
    "features2.shape"
   ]
  },
  {
   "cell_type": "code",
   "execution_count": 243,
   "id": "404e8a72-9781-4419-ac52-0b9ea6a7353b",
   "metadata": {},
   "outputs": [
    {
     "data": {
      "text/plain": [
       "array([[0.]])"
      ]
     },
     "execution_count": 243,
     "metadata": {},
     "output_type": "execute_result"
    }
   ],
   "source": [
    "t = np.reshape([1,1,2,4,6], (-1, 1))\n",
    "v.T@t"
   ]
  },
  {
   "cell_type": "code",
   "execution_count": 245,
   "id": "59bf4d1c-7fa1-417f-80cf-6730e8ebafa9",
   "metadata": {},
   "outputs": [
    {
     "data": {
      "text/plain": [
       "array([[0., 0., 0., 0., 0.]])"
      ]
     },
     "execution_count": 245,
     "metadata": {},
     "output_type": "execute_result"
    }
   ],
   "source": [
    "v.T"
   ]
  },
  {
   "cell_type": "code",
   "execution_count": 217,
   "id": "201f236f-f2c7-4b87-9829-c9298fdc0fc0",
   "metadata": {},
   "outputs": [
    {
     "data": {
      "text/plain": [
       "array([[0., 0., 0., 0., 0.]])"
      ]
     },
     "execution_count": 217,
     "metadata": {},
     "output_type": "execute_result"
    }
   ],
   "source": [
    "v.T"
   ]
  },
  {
   "cell_type": "code",
   "execution_count": 230,
   "id": "7c230147-77a7-4254-ad7d-37c563f306ad",
   "metadata": {},
   "outputs": [
    {
     "data": {
      "text/plain": [
       "array([[0.]])"
      ]
     },
     "execution_count": 230,
     "metadata": {},
     "output_type": "execute_result"
    }
   ],
   "source": [
    "v = np.zeros((5,1))\n",
    "v.T.dot(features2.T)"
   ]
  },
  {
   "cell_type": "code",
   "execution_count": 239,
   "id": "6c41dedb-bdc4-4252-a729-bfa24bd1bdd8",
   "metadata": {},
   "outputs": [
    {
     "data": {
      "text/plain": [
       "0.0"
      ]
     },
     "execution_count": 239,
     "metadata": {},
     "output_type": "execute_result"
    }
   ],
   "source": [
    "float(v.T@features2.T)"
   ]
  },
  {
   "cell_type": "code",
   "execution_count": 240,
   "id": "10f6f800-b721-4a3b-9827-7cae868cfee1",
   "metadata": {},
   "outputs": [
    {
     "data": {
      "text/plain": [
       "array([[1],\n",
       "       [2],\n",
       "       [2],\n",
       "       [4],\n",
       "       [6]])"
      ]
     },
     "execution_count": 240,
     "metadata": {},
     "output_type": "execute_result"
    }
   ],
   "source": [
    "features2.T"
   ]
  },
  {
   "cell_type": "code",
   "execution_count": 167,
   "id": "7dd3798b-52c8-4b56-a43c-0ad1ae19c298",
   "metadata": {},
   "outputs": [
    {
     "data": {
      "text/plain": [
       "5"
      ]
     },
     "execution_count": 167,
     "metadata": {},
     "output_type": "execute_result"
    }
   ],
   "source": [
    "model_tries = 1\n",
    "n_models =5 \n",
    "model_tries = np.zeros((n_models))\n",
    "np.nonzero(model_tries == 0)[0].size"
   ]
  },
  {
   "cell_type": "code",
   "execution_count": 172,
   "id": "70f9caa8-0716-4604-bcbf-741b4189d682",
   "metadata": {},
   "outputs": [
    {
     "data": {
      "text/plain": [
       "(array([0, 1, 2, 3, 4]),)"
      ]
     },
     "execution_count": 172,
     "metadata": {},
     "output_type": "execute_result"
    }
   ],
   "source": [
    "np.nonzero(model_tries==0)[0]"
   ]
  },
  {
   "cell_type": "code",
   "execution_count": 165,
   "id": "5bc2f24f-758b-46fc-9f25-bc2d049d45de",
   "metadata": {},
   "outputs": [
    {
     "data": {
      "text/plain": [
       "array([0., 0., 0., 0., 0.])"
      ]
     },
     "execution_count": 165,
     "metadata": {},
     "output_type": "execute_result"
    }
   ],
   "source": [
    "_theta = np.zeros(features2.shape[0])\n",
    "_theta"
   ]
  },
  {
   "cell_type": "code",
   "execution_count": 238,
   "id": "196fcc9d-4108-4c2f-a242-bfeb2eedd63d",
   "metadata": {},
   "outputs": [
    {
     "data": {
      "text/plain": [
       "array([[1.],\n",
       "       [2.],\n",
       "       [2.],\n",
       "       [4.],\n",
       "       [6.]])"
      ]
     },
     "execution_count": 238,
     "metadata": {},
     "output_type": "execute_result"
    }
   ],
   "source": [
    "_A_inv = np.identity(features2.T.shape[0])\n",
    "_A_inv@features2.T"
   ]
  },
  {
   "cell_type": "code",
   "execution_count": 237,
   "id": "9a7fece1-c0a4-43f1-bb33-7946cd90a0ad",
   "metadata": {},
   "outputs": [
    {
     "data": {
      "text/plain": [
       "array([[1, 2, 2, 4, 6]])"
      ]
     },
     "execution_count": 237,
     "metadata": {},
     "output_type": "execute_result"
    }
   ],
   "source": [
    "features2"
   ]
  },
  {
   "cell_type": "code",
   "execution_count": 154,
   "id": "0ef031a5-0883-4052-a1e8-487d4f526ccb",
   "metadata": {},
   "outputs": [
    {
     "data": {
      "text/plain": [
       "array([0.])"
      ]
     },
     "execution_count": 154,
     "metadata": {},
     "output_type": "execute_result"
    }
   ],
   "source": [
    "point_estimate = _theta @ features2\n",
    "point_estimate"
   ]
  },
  {
   "cell_type": "code",
   "execution_count": 155,
   "id": "7aa7cfa7-98c8-4f2a-94ee-42db7851136b",
   "metadata": {},
   "outputs": [
    {
     "data": {
      "text/plain": [
       "array([61.])"
      ]
     },
     "execution_count": 155,
     "metadata": {},
     "output_type": "execute_result"
    }
   ],
   "source": [
    "point_bounds   = np.diagonal(features2.T @ _A_inv @ features2)\n",
    "point_bounds"
   ]
  },
  {
   "cell_type": "code",
   "execution_count": 156,
   "id": "e686a59c-6fca-45fa-8cb4-361fc89b8036",
   "metadata": {},
   "outputs": [
    {
     "data": {
      "text/plain": [
       "array([1.56204994])"
      ]
     },
     "execution_count": 156,
     "metadata": {},
     "output_type": "execute_result"
    }
   ],
   "source": [
    "_alpha = 0.2\n",
    "action_values = point_estimate + _alpha*np.sqrt(point_bounds)\n",
    "action_values"
   ]
  },
  {
   "cell_type": "code",
   "execution_count": null,
   "id": "87713344-5993-48ff-8088-c001638794ad",
   "metadata": {},
   "outputs": [],
   "source": [
    "   if(self._A_inv is None):\n",
    "            self._theta = np.zeros(features.shape[0])\n",
    "            self._A_inv = np.identity(features.shape[0])\n",
    "\n",
    "        point_estimate = self._theta @ features\n",
    "        point_bounds   = np.diagonal(features.T @ self._A_inv @ features)\n",
    "\n",
    "        action_values = point_estimate + self._alpha*np.sqrt(point_bounds)"
   ]
  },
  {
   "cell_type": "code",
   "execution_count": 139,
   "id": "38fbe6f9-77a7-4df9-826c-370768595fab",
   "metadata": {},
   "outputs": [
    {
     "data": {
      "text/plain": [
       "array([[[1., 0., 0.],\n",
       "        [0., 1., 0.],\n",
       "        [0., 0., 1.]],\n",
       "\n",
       "       [[1., 0., 0.],\n",
       "        [0., 1., 0.],\n",
       "        [0., 0., 1.]],\n",
       "\n",
       "       [[1., 0., 0.],\n",
       "        [0., 1., 0.],\n",
       "        [0., 0., 1.]],\n",
       "\n",
       "       [[1., 0., 0.],\n",
       "        [0., 1., 0.],\n",
       "        [0., 0., 1.]]])"
      ]
     },
     "execution_count": 139,
     "metadata": {},
     "output_type": "execute_result"
    }
   ],
   "source": [
    "n_features=3\n",
    "n_models =4\n",
    "covariance_matrices = np.tile(\n",
    "    np.identity(n_features), (n_models, 1, 1)\n",
    ")\n",
    "covariance_matrices"
   ]
  },
  {
   "cell_type": "code",
   "execution_count": 61,
   "id": "4013304c-14cb-4cf8-823c-5131c2d81e3b",
   "metadata": {},
   "outputs": [
    {
     "data": {
      "text/plain": [
       "array([[ 1,  1,  1,  1,  1],\n",
       "       [ 2,  1,  1,  2,  7],\n",
       "       [ 2,  1,  1,  2,  7],\n",
       "       [ 4,  2,  2,  4, 14],\n",
       "       [ 6,  3,  3,  6, 21]])"
      ]
     },
     "execution_count": 61,
     "metadata": {},
     "output_type": "execute_result"
    }
   ],
   "source": [
    "features"
   ]
  },
  {
   "cell_type": "code",
   "execution_count": 27,
   "id": "ddf53e7b-f4ba-45b8-a41b-1c70ef55adde",
   "metadata": {},
   "outputs": [
    {
     "data": {
      "text/plain": [
       "[1, 2, 3]"
      ]
     },
     "execution_count": 27,
     "metadata": {},
     "output_type": "execute_result"
    }
   ],
   "source": [
    "context"
   ]
  },
  {
   "cell_type": "code",
   "execution_count": 63,
   "id": "fd0c27d6-bf27-48fc-81a9-5a906a48d151",
   "metadata": {},
   "outputs": [],
   "source": [
    "_theta = np.zeros(features.shape[0])"
   ]
  },
  {
   "cell_type": "code",
   "execution_count": 26,
   "id": "e719e388-82ed-44a9-a539-7f2cfb3c9834",
   "metadata": {},
   "outputs": [
    {
     "data": {
      "text/plain": [
       "array([{'a0E04': 1, 'a0E04x0': 1, 'a0E04x1': 2, 'a0E04x2': 3, 'const': 1},\n",
       "       {'a0A01': 1, 'a0A01x0': 1, 'a0A01x1': 2, 'a0A01x2': 3, 'const': 1},\n",
       "       {'a0S01': 1, 'a0S01x0': 1, 'a0S01x1': 2, 'a0S01x2': 3, 'const': 1},\n",
       "       {'a0S02': 1, 'a0S02x0': 1, 'a0S02x1': 2, 'a0S02x2': 3, 'const': 1}],\n",
       "      dtype=object)"
      ]
     },
     "execution_count": 26,
     "metadata": {},
     "output_type": "execute_result"
    }
   ],
   "source": [
    "features"
   ]
  },
  {
   "cell_type": "code",
   "execution_count": 62,
   "id": "0583569e-9e99-47a1-b12d-24ac3e328635",
   "metadata": {},
   "outputs": [],
   "source": [
    "_A_inv= np.identity(features.shape[0])"
   ]
  },
  {
   "cell_type": "code",
   "execution_count": 30,
   "id": "defd3543-bcf9-4b09-8cef-f04dfc1cb101",
   "metadata": {},
   "outputs": [],
   "source": [
    "features: np.ndarray = np.array([ context for action in actions]).T"
   ]
  },
  {
   "cell_type": "code",
   "execution_count": 32,
   "id": "78bb0cbd-8745-4d4e-b7bf-bcd1caf402f1",
   "metadata": {},
   "outputs": [
    {
     "data": {
      "text/plain": [
       "array([[1, 1, 1, 1],\n",
       "       [2, 2, 2, 2],\n",
       "       [3, 3, 3, 3]])"
      ]
     },
     "execution_count": 32,
     "metadata": {},
     "output_type": "execute_result"
    }
   ],
   "source": [
    "features"
   ]
  },
  {
   "cell_type": "code",
   "execution_count": 64,
   "id": "50417b5d-3a67-411f-b942-ec16b0577820",
   "metadata": {},
   "outputs": [
    {
     "data": {
      "text/plain": [
       "array([0., 0., 0., 0., 0.])"
      ]
     },
     "execution_count": 64,
     "metadata": {},
     "output_type": "execute_result"
    }
   ],
   "source": [
    "point_estimate = _theta @ features\n",
    "point_estimate"
   ]
  },
  {
   "cell_type": "code",
   "execution_count": 65,
   "id": "b4e47ecc-b764-4165-937c-2674435217dd",
   "metadata": {},
   "outputs": [
    {
     "data": {
      "text/plain": [
       "array([ 61.,  16.,  16.,  61., 736.])"
      ]
     },
     "execution_count": 65,
     "metadata": {},
     "output_type": "execute_result"
    }
   ],
   "source": [
    "point_bounds   = np.diagonal(features.T @ _A_inv @ features)\n",
    "point_bounds"
   ]
  },
  {
   "cell_type": "code",
   "execution_count": 66,
   "id": "ecc68e4d-af71-46dc-b3b6-32960fadbeb0",
   "metadata": {},
   "outputs": [
    {
     "data": {
      "text/plain": [
       "array([1.09343495, 0.56      , 0.56      , 1.09343495, 3.79810479])"
      ]
     },
     "execution_count": 66,
     "metadata": {},
     "output_type": "execute_result"
    }
   ],
   "source": [
    "_alpha=0.14\n",
    "action_values = point_estimate + _alpha*np.sqrt(point_bounds)\n",
    "action_values"
   ]
  },
  {
   "cell_type": "code",
   "execution_count": 67,
   "id": "507b6e74-6243-4757-b918-ffd88eb421ea",
   "metadata": {},
   "outputs": [],
   "source": [
    "max_indexes   = np.where(action_values == np.amax(action_values))[0]"
   ]
  },
  {
   "cell_type": "code",
   "execution_count": 68,
   "id": "544a7267-b0cf-48f9-af53-1d1c80a5e9d2",
   "metadata": {},
   "outputs": [
    {
     "data": {
      "text/plain": [
       "array([4])"
      ]
     },
     "execution_count": 68,
     "metadata": {},
     "output_type": "execute_result"
    }
   ],
   "source": [
    "max_indexes"
   ]
  },
  {
   "cell_type": "code",
   "execution_count": 69,
   "id": "dc09712e-7e04-422f-97db-d94a30bf114e",
   "metadata": {},
   "outputs": [
    {
     "data": {
      "text/plain": [
       "[0.0, 0.0, 0.0, 0.0, 1.0]"
      ]
     },
     "execution_count": 69,
     "metadata": {},
     "output_type": "execute_result"
    }
   ],
   "source": [
    "[ int(ind in max_indexes)/len(max_indexes) for ind in range(len(actions))]"
   ]
  },
  {
   "cell_type": "code",
   "execution_count": null,
   "id": "194d4889-431b-4370-a5a3-121207fda8d7",
   "metadata": {},
   "outputs": [],
   "source": [
    "        point_bounds   = np.diagonal(features.T @ self._A_inv @ features)\n",
    "\n",
    "        action_values = point_estimate + self._alpha*np.sqrt(point_bounds)\n",
    "        max_indexes   = np.where(action_values == np.amax(action_values))[0]"
   ]
  },
  {
   "cell_type": "code",
   "execution_count": 43,
   "id": "f75aa160-de44-478f-84a3-0f58db147596",
   "metadata": {},
   "outputs": [],
   "source": [
    "from coba.learners import LinUCBLearner"
   ]
  },
  {
   "cell_type": "code",
   "execution_count": 44,
   "id": "9395dfd8-b179-4e95-ba24-353b19d35c0b",
   "metadata": {},
   "outputs": [],
   "source": [
    "test = LinUCBLearner()"
   ]
  },
  {
   "cell_type": "code",
   "execution_count": 45,
   "id": "54d8d4a5-42c3-4ff6-85c9-7f31b129f3b1",
   "metadata": {},
   "outputs": [
    {
     "ename": "TypeError",
     "evalue": "unsupported operand type(s) for *: 'float' and 'dict'",
     "output_type": "error",
     "traceback": [
      "\u001b[0;31m---------------------------------------------------------------------------\u001b[0m",
      "\u001b[0;31mTypeError\u001b[0m                                 Traceback (most recent call last)",
      "Input \u001b[0;32mIn [45]\u001b[0m, in \u001b[0;36m<module>\u001b[0;34m\u001b[0m\n\u001b[1;32m      1\u001b[0m actions \u001b[38;5;241m=\u001b[39m [\u001b[38;5;124m\"\u001b[39m\u001b[38;5;124mE04\u001b[39m\u001b[38;5;124m\"\u001b[39m,\u001b[38;5;124m\"\u001b[39m\u001b[38;5;124mA01\u001b[39m\u001b[38;5;124m\"\u001b[39m,\u001b[38;5;124m\"\u001b[39m\u001b[38;5;124mS01\u001b[39m\u001b[38;5;124m\"\u001b[39m,\u001b[38;5;124m\"\u001b[39m\u001b[38;5;124mS02\u001b[39m\u001b[38;5;124m\"\u001b[39m]\n\u001b[0;32m----> 3\u001b[0m \u001b[43mtest\u001b[49m\u001b[38;5;241;43m.\u001b[39;49m\u001b[43mpredict\u001b[49m\u001b[43m(\u001b[49m\u001b[43m[\u001b[49m\u001b[38;5;241;43m1\u001b[39;49m\u001b[43m,\u001b[49m\u001b[38;5;241;43m2\u001b[39;49m\u001b[43m,\u001b[49m\u001b[38;5;241;43m3\u001b[39;49m\u001b[43m]\u001b[49m\u001b[43m,\u001b[49m\u001b[43mactions\u001b[49m\u001b[43m)\u001b[49m\n",
      "File \u001b[0;32m~/miniconda3/lib/python3.8/site-packages/coba/learners/linucb.py:76\u001b[0m, in \u001b[0;36mLinUCBLearner.predict\u001b[0;34m(self, context, actions)\u001b[0m\n\u001b[1;32m     73\u001b[0m     \u001b[38;5;28mself\u001b[39m\u001b[38;5;241m.\u001b[39m_theta \u001b[38;5;241m=\u001b[39m np\u001b[38;5;241m.\u001b[39mzeros(features\u001b[38;5;241m.\u001b[39mshape[\u001b[38;5;241m0\u001b[39m])\n\u001b[1;32m     74\u001b[0m     \u001b[38;5;28mself\u001b[39m\u001b[38;5;241m.\u001b[39m_A_inv \u001b[38;5;241m=\u001b[39m np\u001b[38;5;241m.\u001b[39midentity(features\u001b[38;5;241m.\u001b[39mshape[\u001b[38;5;241m0\u001b[39m])\n\u001b[0;32m---> 76\u001b[0m point_estimate \u001b[38;5;241m=\u001b[39m \u001b[38;5;28;43mself\u001b[39;49m\u001b[38;5;241;43m.\u001b[39;49m\u001b[43m_theta\u001b[49m\u001b[43m \u001b[49m\u001b[38;5;241;43m@\u001b[39;49m\u001b[43m \u001b[49m\u001b[43mfeatures\u001b[49m\n\u001b[1;32m     77\u001b[0m point_bounds   \u001b[38;5;241m=\u001b[39m np\u001b[38;5;241m.\u001b[39mdiagonal(features\u001b[38;5;241m.\u001b[39mT \u001b[38;5;241m@\u001b[39m \u001b[38;5;28mself\u001b[39m\u001b[38;5;241m.\u001b[39m_A_inv \u001b[38;5;241m@\u001b[39m features)\n\u001b[1;32m     79\u001b[0m action_values \u001b[38;5;241m=\u001b[39m point_estimate \u001b[38;5;241m+\u001b[39m \u001b[38;5;28mself\u001b[39m\u001b[38;5;241m.\u001b[39m_alpha\u001b[38;5;241m*\u001b[39mnp\u001b[38;5;241m.\u001b[39msqrt(point_bounds)\n",
      "\u001b[0;31mTypeError\u001b[0m: unsupported operand type(s) for *: 'float' and 'dict'"
     ]
    }
   ],
   "source": [
    "actions = [\"E04\",\"A01\",\"S01\",\"S02\"]\n",
    "\n",
    "test.predict([1,2,3],actions)"
   ]
  },
  {
   "cell_type": "code",
   "execution_count": 100,
   "id": "6b537346-b860-4c27-8cf5-096c183854dc",
   "metadata": {},
   "outputs": [
    {
     "data": {
      "text/plain": [
       "[0.0, 0.0, 0.0, 1.0]"
      ]
     },
     "execution_count": 100,
     "metadata": {},
     "output_type": "execute_result"
    }
   ],
   "source": [
    "#learner = LinUCBLearner()\n",
    "probs   = learner.predict([1,2,3], [1,2,4,6])\n",
    "probs"
   ]
  },
  {
   "cell_type": "code",
   "execution_count": 71,
   "id": "bb84903d-be19-4005-a3a8-07b3287c6f2f",
   "metadata": {},
   "outputs": [
    {
     "data": {
      "text/plain": [
       "[0.0, 0.0, 0.0, 1.0]"
      ]
     },
     "execution_count": 71,
     "metadata": {},
     "output_type": "execute_result"
    }
   ],
   "source": [
    "probs"
   ]
  },
  {
   "cell_type": "code",
   "execution_count": 99,
   "id": "5e57a962-20b3-4c94-989d-dc0a2ab01b15",
   "metadata": {},
   "outputs": [],
   "source": [
    "learner.learn([1,2,3], 2, 10.4, None, None)"
   ]
  },
  {
   "cell_type": "code",
   "execution_count": 106,
   "id": "73d6aee5-186f-4bdd-8e2d-f1d06d152b97",
   "metadata": {},
   "outputs": [
    {
     "name": "stdout",
     "output_type": "stream",
     "text": [
      "{'rewarded': 'OK', 'request_id': '11878_10'}\n",
      "CPU times: user 3.7 ms, sys: 4.57 ms, total: 8.27 ms\n",
      "Wall time: 532 ms\n"
     ]
    }
   ],
   "source": [
    "%%time\n",
    "import sys\n",
    "\n",
    "import requests\n",
    "\n",
    "\n",
    "def main():\n",
    "\n",
    "    payload = {\"reward\":2,\"sp_ty\": \"S02\",\"model_id\":\"linucb4\",\"request_id\":\"11878_10\"}\n",
    "    r = requests.post('http://54.214.110.168:7004/predict/rewardserver', json=payload)\n",
    "    r.raise_for_status()\n",
    "    print(r.json())\n",
    "\n",
    "\n",
    "\n",
    "\n",
    "if __name__ == '__main__':\n",
    "    main()"
   ]
  },
  {
   "cell_type": "code",
   "execution_count": 118,
   "id": "c74fec0d-2b82-4028-a4cc-9b0673cabde8",
   "metadata": {},
   "outputs": [
    {
     "name": "stdout",
     "output_type": "stream",
     "text": [
      "CPU times: user 3.58 ms, sys: 12.9 ms, total: 16.4 ms\n",
      "Wall time: 531 ms\n"
     ]
    },
    {
     "data": {
      "text/plain": [
       "{'rewarded': 'OK', 'request_id': '11878_20'}"
      ]
     },
     "execution_count": 118,
     "metadata": {},
     "output_type": "execute_result"
    }
   ],
   "source": [
    "%%time\n",
    "import requests\n",
    "\n",
    "\n",
    "class ExecutionError(Exception):\n",
    "    \"\"\"\n",
    "    Exception which is raised when interface method is executed with arguments incompatible to its signature\n",
    "    \"\"\"\n",
    "\n",
    "    pass\n",
    "\n",
    "class HTTPClient(object):\n",
    "    \"\"\"\n",
    "    Simple implementation of HTTP-based boleml runtime client.\n",
    "    method calls are performed via HTTP POST calls to `/<name>`.\n",
    "    :param host: host of server to connect to, if no host given connects to host `localhost`\n",
    "    :param port: port of server to connect to, if no port given connects to port 9000\n",
    "    \"\"\"\n",
    "\n",
    "    def __init__(self, host=None, port=None):\n",
    "        self.base_url = f'http://{host or \"localhost\"}:{port or 9000}'\n",
    "        super().__init__()\n",
    "\n",
    "    def call_method(self, name, args):\n",
    "        ret = requests.post(f'{self.base_url}/{name}', json=args)\n",
    "        if ret.status_code == 200:\n",
    "            return ret.json()\n",
    "        elif ret.status_code == 400:\n",
    "            raise ExecutionError(ret.json()['error'])  # TODO tests\n",
    "        else:\n",
    "            ret.raise_for_status()\n",
    "            \n",
    "            \n",
    "payload = {\"reward\":2,\"sp_ty\": \"S02\",\"model_id\":\"linucb1\",\"request_id\":\"11878_20\"}\n",
    "\n",
    "client = HTTPClient(\"54.214.110.168\",7004)\n",
    "client.call_method(\"predict/rewardserver\",payload)\n"
   ]
  },
  {
   "cell_type": "code",
   "execution_count": 119,
   "id": "85472bd9-80ec-45f4-b086-188fb771744a",
   "metadata": {},
   "outputs": [
    {
     "data": {
      "text/plain": [
       "{'recom_sp': 'S02', 'model_type': 'ee', 'request_id': '11878_6'}"
      ]
     },
     "execution_count": 119,
     "metadata": {},
     "output_type": "execute_result"
    }
   ],
   "source": [
    "payload = {\"uid\":\"11878\",\"request_id\":\"11878_6\",\"model_id\":\"linucb1\"}\n",
    "\n",
    "client = HTTPClient(\"54.214.110.168\",6004)\n",
    "client.call_method(\"predict/modelserver2\",payload)"
   ]
  },
  {
   "cell_type": "code",
   "execution_count": 122,
   "id": "daf003e6-8bdf-4cff-90b5-c2ebcf7dd6a7",
   "metadata": {},
   "outputs": [
    {
     "name": "stdout",
     "output_type": "stream",
     "text": [
      "x y\n",
      "z l\n"
     ]
    }
   ],
   "source": [
    "a1={\"x\":10,\"z\":1}\n",
    "b1={\"y\":20,\"l\":10}\n",
    "for x,y in zip(a1,b1):\n",
    "    print(x,y)"
   ]
  },
  {
   "cell_type": "code",
   "execution_count": null,
   "id": "fead3508-13ce-4416-981e-59f8c1623fd6",
   "metadata": {},
   "outputs": [],
   "source": []
  }
 ],
 "metadata": {
  "kernelspec": {
   "display_name": "Python 3 (ipykernel)",
   "language": "python",
   "name": "python3"
  },
  "language_info": {
   "codemirror_mode": {
    "name": "ipython",
    "version": 3
   },
   "file_extension": ".py",
   "mimetype": "text/x-python",
   "name": "python",
   "nbconvert_exporter": "python",
   "pygments_lexer": "ipython3",
   "version": "3.8.11"
  }
 },
 "nbformat": 4,
 "nbformat_minor": 5
}
